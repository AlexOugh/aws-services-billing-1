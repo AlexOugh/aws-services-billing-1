{
 "cells": [
  {
   "cell_type": "code",
   "execution_count": 1,
   "metadata": {
    "collapsed": true
   },
   "outputs": [],
   "source": [
    "import os\n",
    "import boto3\n",
    "import pandas as pd\n",
    "import json\n",
    "import psycopg2\n",
    "import sqlalchemy as sa\n",
    "import json"
   ]
  },
  {
   "cell_type": "code",
   "execution_count": 3,
   "metadata": {},
   "outputs": [],
   "source": [
    "credfile = 'redshift_creds_template.json.nogit'\n",
    "\n",
    "# Read credentials to a dictionary\n",
    "with open(credfile) as fh:\n",
    "    creds = json.loads(fh.read())\n",
    "\n",
    "def get_conn(creds): \n",
    "    conn = psycopg2.connect(dbname=creds['db_name'], \n",
    "                            user=creds['username'], \n",
    "                            password=creds['password'],\n",
    "                            port=creds['port_num'],\n",
    "                            host=creds['host_name'])\n",
    "    return conn\n",
    "\n",
    "def get_df(creds, query):\n",
    "    with get_conn(creds) as conn:\n",
    "        with conn.cursor() as cur:\n",
    "            cur.execute(query)\n",
    "            result_set = cur.fetchall()\n",
    "            colnames = [desc.name for desc in cur.description]\n",
    "            df = pd.DataFrame.from_records(result_set, columns=colnames)\n",
    "    return df"
   ]
  },
  {
   "cell_type": "code",
   "execution_count": 4,
   "metadata": {
    "collapsed": true
   },
   "outputs": [],
   "source": [
    "import os\n",
    "import boto3\n",
    "region = os.getenv('AWS_DEFAULT_REGION')\n",
    "s3 = boto3.client('s3', region_name=region)\n",
    "\n",
    "s3_bucket = 'sungardas-aws-services-billing-graphimagebucket-lv7d7riqedp7'"
   ]
  },
  {
   "cell_type": "code",
   "execution_count": 5,
   "metadata": {},
   "outputs": [
    {
     "name": "stdout",
     "output_type": "stream",
     "text": [
      "select substring(cast(lineitem_usageenddate as datetime) from 1 for 10) enddatetime, lineItem_UsageAccountId, lineitem_productcode, sum(lineItem_UsageAmount) usage_amount, to_char(sum(cast(lineItem_BlendedCost as float)), 'FM999,999,999,990D00') blended, to_char(sum(cast(lineitem_unblendedcost as float)), 'FM999,999,999,990D00') unblended from AWSBilling201608 where lineitem_lineitemtype != 'Tax' and lineitem_usageenddate >= '2016-08-01' and lineitem_usageenddate < '2016-09-01' group by enddatetime, lineItem_UsageAccountId, lineitem_productcode order by enddatetime, lineItem_UsageAccountId, lineitem_productcode\n",
      "201608 data was saved to s3\n",
      "\n",
      "select substring(cast(lineitem_usageenddate as datetime) from 1 for 10) enddatetime, lineItem_UsageAccountId, lineitem_productcode, sum(lineItem_UsageAmount) usage_amount, to_char(sum(cast(lineItem_BlendedCost as float)), 'FM999,999,999,990D00') blended, to_char(sum(cast(lineitem_unblendedcost as float)), 'FM999,999,999,990D00') unblended from AWSBilling201609 where lineitem_lineitemtype != 'Tax' and lineitem_usageenddate >= '2016-09-01' and lineitem_usageenddate < '2016-10-01' group by enddatetime, lineItem_UsageAccountId, lineitem_productcode order by enddatetime, lineItem_UsageAccountId, lineitem_productcode\n",
      "201609 data was saved to s3\n",
      "\n",
      "select substring(cast(lineitem_usageenddate as datetime) from 1 for 10) enddatetime, lineItem_UsageAccountId, lineitem_productcode, sum(lineItem_UsageAmount) usage_amount, to_char(sum(cast(lineItem_BlendedCost as float)), 'FM999,999,999,990D00') blended, to_char(sum(cast(lineitem_unblendedcost as float)), 'FM999,999,999,990D00') unblended from AWSBilling201610 where lineitem_lineitemtype != 'Tax' and lineitem_usageenddate >= '2016-10-01' and lineitem_usageenddate < '2016-11-01' group by enddatetime, lineItem_UsageAccountId, lineitem_productcode order by enddatetime, lineItem_UsageAccountId, lineitem_productcode\n",
      "201610 data was saved to s3\n",
      "\n",
      "select substring(cast(lineitem_usageenddate as datetime) from 1 for 10) enddatetime, lineItem_UsageAccountId, lineitem_productcode, sum(lineItem_UsageAmount) usage_amount, to_char(sum(cast(lineItem_BlendedCost as float)), 'FM999,999,999,990D00') blended, to_char(sum(cast(lineitem_unblendedcost as float)), 'FM999,999,999,990D00') unblended from AWSBilling201611 where lineitem_lineitemtype != 'Tax' and lineitem_usageenddate >= '2016-11-01' and lineitem_usageenddate < '2016-12-01' group by enddatetime, lineItem_UsageAccountId, lineitem_productcode order by enddatetime, lineItem_UsageAccountId, lineitem_productcode\n",
      "201611 data was saved to s3\n",
      "\n",
      "select substring(cast(lineitem_usageenddate as datetime) from 1 for 10) enddatetime, lineItem_UsageAccountId, lineitem_productcode, sum(lineItem_UsageAmount) usage_amount, to_char(sum(cast(lineItem_BlendedCost as float)), 'FM999,999,999,990D00') blended, to_char(sum(cast(lineitem_unblendedcost as float)), 'FM999,999,999,990D00') unblended from AWSBilling201612 where lineitem_lineitemtype != 'Tax' and lineitem_usageenddate >= '2016-12-01' and lineitem_usageenddate < '2017-01-01' group by enddatetime, lineItem_UsageAccountId, lineitem_productcode order by enddatetime, lineItem_UsageAccountId, lineitem_productcode\n",
      "201612 data was saved to s3\n",
      "\n",
      "select substring(cast(lineitem_usageenddate as datetime) from 1 for 10) enddatetime, lineItem_UsageAccountId, lineitem_productcode, sum(lineItem_UsageAmount) usage_amount, to_char(sum(cast(lineItem_BlendedCost as float)), 'FM999,999,999,990D00') blended, to_char(sum(cast(lineitem_unblendedcost as float)), 'FM999,999,999,990D00') unblended from AWSBilling201701 where lineitem_lineitemtype != 'Tax' and lineitem_usageenddate >= '2017-01-01' and lineitem_usageenddate < '2017-02-01' group by enddatetime, lineItem_UsageAccountId, lineitem_productcode order by enddatetime, lineItem_UsageAccountId, lineitem_productcode\n",
      "201701 data was saved to s3\n",
      "\n",
      "select substring(cast(lineitem_usageenddate as datetime) from 1 for 10) enddatetime, lineItem_UsageAccountId, lineitem_productcode, sum(lineItem_UsageAmount) usage_amount, to_char(sum(cast(lineItem_BlendedCost as float)), 'FM999,999,999,990D00') blended, to_char(sum(cast(lineitem_unblendedcost as float)), 'FM999,999,999,990D00') unblended from AWSBilling201702 where lineitem_lineitemtype != 'Tax' and lineitem_usageenddate >= '2017-02-01' and lineitem_usageenddate < '2017-03-01' group by enddatetime, lineItem_UsageAccountId, lineitem_productcode order by enddatetime, lineItem_UsageAccountId, lineitem_productcode\n",
      "201702 data was saved to s3\n",
      "\n",
      "select substring(cast(lineitem_usageenddate as datetime) from 1 for 10) enddatetime, lineItem_UsageAccountId, lineitem_productcode, sum(lineItem_UsageAmount) usage_amount, to_char(sum(cast(lineItem_BlendedCost as float)), 'FM999,999,999,990D00') blended, to_char(sum(cast(lineitem_unblendedcost as float)), 'FM999,999,999,990D00') unblended from AWSBilling201703 where lineitem_lineitemtype != 'Tax' and lineitem_usageenddate >= '2017-03-01' and lineitem_usageenddate < '2017-04-01' group by enddatetime, lineItem_UsageAccountId, lineitem_productcode order by enddatetime, lineItem_UsageAccountId, lineitem_productcode\n",
      "201703 data was saved to s3\n",
      "\n",
      "select substring(cast(lineitem_usageenddate as datetime) from 1 for 10) enddatetime, lineItem_UsageAccountId, lineitem_productcode, sum(lineItem_UsageAmount) usage_amount, to_char(sum(cast(lineItem_BlendedCost as float)), 'FM999,999,999,990D00') blended, to_char(sum(cast(lineitem_unblendedcost as float)), 'FM999,999,999,990D00') unblended from AWSBilling201704 where lineitem_lineitemtype != 'Tax' and lineitem_usageenddate >= '2017-04-01' and lineitem_usageenddate < '2017-05-01' group by enddatetime, lineItem_UsageAccountId, lineitem_productcode order by enddatetime, lineItem_UsageAccountId, lineitem_productcode\n",
      "201704 data was saved to s3\n",
      "\n",
      "select substring(cast(lineitem_usageenddate as datetime) from 1 for 10) enddatetime, lineItem_UsageAccountId, lineitem_productcode, sum(lineItem_UsageAmount) usage_amount, to_char(sum(cast(lineItem_BlendedCost as float)), 'FM999,999,999,990D00') blended, to_char(sum(cast(lineitem_unblendedcost as float)), 'FM999,999,999,990D00') unblended from AWSBilling201705 where lineitem_lineitemtype != 'Tax' and lineitem_usageenddate >= '2017-05-01' and lineitem_usageenddate < '2017-06-01' group by enddatetime, lineItem_UsageAccountId, lineitem_productcode order by enddatetime, lineItem_UsageAccountId, lineitem_productcode\n",
      "201705 data was saved to s3\n",
      "\n",
      "select substring(cast(lineitem_usageenddate as datetime) from 1 for 10) enddatetime, lineItem_UsageAccountId, lineitem_productcode, sum(lineItem_UsageAmount) usage_amount, to_char(sum(cast(lineItem_BlendedCost as float)), 'FM999,999,999,990D00') blended, to_char(sum(cast(lineitem_unblendedcost as float)), 'FM999,999,999,990D00') unblended from AWSBilling201706 where lineitem_lineitemtype != 'Tax' and lineitem_usageenddate >= '2017-06-01' and lineitem_usageenddate < '2017-07-01' group by enddatetime, lineItem_UsageAccountId, lineitem_productcode order by enddatetime, lineItem_UsageAccountId, lineitem_productcode\n",
      "201706 data was saved to s3\n",
      "\n",
      "select substring(cast(lineitem_usageenddate as datetime) from 1 for 10) enddatetime, lineItem_UsageAccountId, lineitem_productcode, sum(lineItem_UsageAmount) usage_amount, to_char(sum(cast(lineItem_BlendedCost as float)), 'FM999,999,999,990D00') blended, to_char(sum(cast(lineitem_unblendedcost as float)), 'FM999,999,999,990D00') unblended from AWSBilling201707 where lineitem_lineitemtype != 'Tax' and lineitem_usageenddate >= '2017-07-01' and lineitem_usageenddate < '2017-08-01' group by enddatetime, lineItem_UsageAccountId, lineitem_productcode order by enddatetime, lineItem_UsageAccountId, lineitem_productcode\n",
      "201707 data was saved to s3\n",
      "\n",
      "select substring(cast(lineitem_usageenddate as datetime) from 1 for 10) enddatetime, lineItem_UsageAccountId, lineitem_productcode, sum(lineItem_UsageAmount) usage_amount, to_char(sum(cast(lineItem_BlendedCost as float)), 'FM999,999,999,990D00') blended, to_char(sum(cast(lineitem_unblendedcost as float)), 'FM999,999,999,990D00') unblended from AWSBilling201708 where lineitem_lineitemtype != 'Tax' and lineitem_usageenddate >= '2017-08-01' and lineitem_usageenddate < '2017-09-01' group by enddatetime, lineItem_UsageAccountId, lineitem_productcode order by enddatetime, lineItem_UsageAccountId, lineitem_productcode\n"
     ]
    },
    {
     "name": "stdout",
     "output_type": "stream",
     "text": [
      "201708 data was saved to s3\n",
      "\n",
      "select substring(cast(lineitem_usageenddate as datetime) from 1 for 10) enddatetime, lineItem_UsageAccountId, lineitem_productcode, sum(lineItem_UsageAmount) usage_amount, to_char(sum(cast(lineItem_BlendedCost as float)), 'FM999,999,999,990D00') blended, to_char(sum(cast(lineitem_unblendedcost as float)), 'FM999,999,999,990D00') unblended from AWSBilling201709 where lineitem_lineitemtype != 'Tax' and lineitem_usageenddate >= '2017-09-01' and lineitem_usageenddate < '2017-10-01' group by enddatetime, lineItem_UsageAccountId, lineitem_productcode order by enddatetime, lineItem_UsageAccountId, lineitem_productcode\n",
      "201709 data was saved to s3\n",
      "\n",
      "select substring(cast(lineitem_usageenddate as datetime) from 1 for 10) enddatetime, lineItem_UsageAccountId, lineitem_productcode, sum(lineItem_UsageAmount) usage_amount, to_char(sum(cast(lineItem_BlendedCost as float)), 'FM999,999,999,990D00') blended, to_char(sum(cast(lineitem_unblendedcost as float)), 'FM999,999,999,990D00') unblended from AWSBilling201710 where lineitem_lineitemtype != 'Tax' and lineitem_usageenddate >= '2017-10-01' and lineitem_usageenddate < '2017-11-01' group by enddatetime, lineItem_UsageAccountId, lineitem_productcode order by enddatetime, lineItem_UsageAccountId, lineitem_productcode\n",
      "201710 data was saved to s3\n",
      "\n",
      "select substring(cast(lineitem_usageenddate as datetime) from 1 for 10) enddatetime, lineItem_UsageAccountId, lineitem_productcode, sum(lineItem_UsageAmount) usage_amount, to_char(sum(cast(lineItem_BlendedCost as float)), 'FM999,999,999,990D00') blended, to_char(sum(cast(lineitem_unblendedcost as float)), 'FM999,999,999,990D00') unblended from AWSBilling201711 where lineitem_lineitemtype != 'Tax' and lineitem_usageenddate >= '2017-11-01' and lineitem_usageenddate < '2017-12-01' group by enddatetime, lineItem_UsageAccountId, lineitem_productcode order by enddatetime, lineItem_UsageAccountId, lineitem_productcode\n",
      "201711 data was saved to s3\n",
      "\n",
      "select substring(cast(lineitem_usageenddate as datetime) from 1 for 10) enddatetime, lineItem_UsageAccountId, lineitem_productcode, sum(lineItem_UsageAmount) usage_amount, to_char(sum(cast(lineItem_BlendedCost as float)), 'FM999,999,999,990D00') blended, to_char(sum(cast(lineitem_unblendedcost as float)), 'FM999,999,999,990D00') unblended from AWSBilling201712 where lineitem_lineitemtype != 'Tax' and lineitem_usageenddate >= '2017-12-01' and lineitem_usageenddate < '2018-01-01' group by enddatetime, lineItem_UsageAccountId, lineitem_productcode order by enddatetime, lineItem_UsageAccountId, lineitem_productcode\n",
      "201712 data was saved to s3\n",
      "\n",
      "select substring(cast(lineitem_usageenddate as datetime) from 1 for 10) enddatetime, lineItem_UsageAccountId, lineitem_productcode, sum(lineItem_UsageAmount) usage_amount, to_char(sum(cast(lineItem_BlendedCost as float)), 'FM999,999,999,990D00') blended, to_char(sum(cast(lineitem_unblendedcost as float)), 'FM999,999,999,990D00') unblended from AWSBilling201801 where lineitem_lineitemtype != 'Tax' and lineitem_usageenddate >= '2018-01-01' and lineitem_usageenddate < '2018-02-01' group by enddatetime, lineItem_UsageAccountId, lineitem_productcode order by enddatetime, lineItem_UsageAccountId, lineitem_productcode\n",
      "201801 data was saved to s3\n",
      "\n",
      "All data has been exported to s3\n"
     ]
    }
   ],
   "source": [
    "import datetime\n",
    "from dateutil.relativedelta import relativedelta\n",
    "\n",
    "import pickle\n",
    "\n",
    "current_date = datetime.datetime.today()\n",
    "\n",
    "from_date = datetime.datetime(2016, 8, 1)\n",
    "to_date = from_date + relativedelta(months=1)\n",
    "\n",
    "while to_date < current_date:\n",
    "\n",
    "    sql = \"select substring(cast(lineitem_usageenddate as datetime) from 1 for 10) enddatetime, lineItem_UsageAccountId, lineitem_productcode,\"\n",
    "    #sql += \" product_servicecode, lineitem_operation, lineitem_usagetype,\"\n",
    "    sql += \" sum(lineItem_UsageAmount) usage_amount,\"\n",
    "    sql += \" to_char(sum(cast(lineItem_BlendedCost as float)), 'FM999,999,999,990D00') blended,\"\n",
    "    sql += \" to_char(sum(cast(lineitem_unblendedcost as float)), 'FM999,999,999,990D00') unblended\"\n",
    "    sql += \" from AWSBilling%s\" % (from_date.strftime('%Y%m'))\n",
    "    sql += \" where lineitem_lineitemtype != 'Tax'\"\n",
    "    #sql += \" and lineitem_usageaccountid = '%s'\" %(account_id)\n",
    "    sql += \" and lineitem_usageenddate >= '%s'\" % (from_date.strftime('%Y-%m-%d'))\n",
    "    sql += \" and lineitem_usageenddate < '%s'\" % (to_date.strftime('%Y-%m-%d'))\n",
    "    sql += \" group by enddatetime, lineItem_UsageAccountId, lineitem_productcode\"\n",
    "    #sql += \", product_servicecode, lineitem_operation, lineitem_usagetype\"\n",
    "    sql += \" order by enddatetime, lineItem_UsageAccountId, lineitem_productcode\"\n",
    "    print(sql)\n",
    "    bill_df = get_df(creds, sql)\n",
    "    #bill_df\n",
    "    bill_obj = pickle.dumps(bill_df)\n",
    "    s3.put_object(Body=bill_obj, Bucket=s3_bucket, Key=\"dataframes/%s_by_day.pkl\" % (from_date.strftime('%Y%m')))\n",
    "    print(\"{} data was saved to s3\\n\".format(from_date.strftime('%Y%m')))\n",
    "    \n",
    "    from_date = from_date + relativedelta(months=1)\n",
    "    to_date = from_date + relativedelta(months=1)\n",
    "\n",
    "print(\"All data has been exported to s3\")"
   ]
  }
 ],
 "metadata": {
  "kernelspec": {
   "display_name": "conda_tensorflow_p36",
   "language": "python",
   "name": "conda_tensorflow_p36"
  },
  "language_info": {
   "codemirror_mode": {
    "name": "ipython",
    "version": 3
   },
   "file_extension": ".py",
   "mimetype": "text/x-python",
   "name": "python",
   "nbconvert_exporter": "python",
   "pygments_lexer": "ipython3",
   "version": "3.6.2"
  }
 },
 "nbformat": 4,
 "nbformat_minor": 2
}
